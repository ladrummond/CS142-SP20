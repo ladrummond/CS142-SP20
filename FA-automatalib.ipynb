{
 "cells": [
  {
   "cell_type": "markdown",
   "metadata": {
    "colab_type": "text",
    "id": "4ngOTAUQ04PW"
   },
   "source": [
    "<h2>CS142 - Computability and Complexity </h2>\n",
    "<h3>Using the Python Automata Simulation Library</h3>\n",
    "<h3> by Prof. Tony Drummond and Yanal Marji</h3>\n",
    "<b>Automata</b> is Python library Copyright 2016-2019 Caleb Evans\n",
    "Released under the MIT license.<br><br>\n",
    "This notebook is meant to introduce you to simulating <b>DFAs</b> and <b>NFAs</b> using the Python library <b>Automata</b></br>\n",
    "The library was selected because it accurately defines and simulates the behavior of automata. Here we focus on these two features of the library:\n",
    "<UL>\n",
    "    <li> NFAs and DFAs are created using the exact formal definition (make sure you understand these defintions and document them in your programs), \n",
    "    <li> The library respects the limited capability of DFAs and NFAs (e.g., read an input string, accept or reject)\n",
    "</UL> \n",
    "You don't need to go to new lengths to learn concepts you haven't encountered yet, independently of your Python coding level, you should be able to explain and exercise the concepts covered in the first 9 lessons of CS142.\n",
    "\n",
    "To begin using automata-lib, you need to install the Python package on your computer.\n",
    "<p align=\"center\"><b> > pip install automata-lib</b></p> \n",
    "Make sure you are using the correct python in your computer.  If you want to use this package within anaconda, make sure you are using the pip package that is in anacond (e.g., >/anaconda3/bin/pip install . . )<br>"
   ]
  },
  {
   "cell_type": "code",
   "execution_count": null,
   "metadata": {
    "colab": {
     "base_uri": "https://localhost:8080/",
     "height": 351
    },
    "colab_type": "code",
    "executionInfo": {
     "elapsed": 510,
     "status": "error",
     "timestamp": 1579803090375,
     "user": {
      "displayName": "Anthony Drummond",
      "photoUrl": "",
      "userId": "08252039506510767507"
     },
     "user_tz": 480
    },
    "id": "0kGV1A2504PY",
    "outputId": "0cb447f6-46bd-4676-edf1-7c625cb31a02"
   },
   "outputs": [],
   "source": [
    "# First we import the base automaton\n",
    "from automata.base.automaton import Automaton #Begin by importing the following\n",
    "from automata.fa.fa import FA   # FA is the class of Finite Automata\n",
    "from automata.fa.dfa import DFA # DFA is the class of Deterministic Finite Automata depends on FA\n",
    "from automata.fa.nfa import NFA # NFA is tha class of Nondeterministic Finite Automata depends on FA"
   ]
  },
  {
   "cell_type": "markdown",
   "metadata": {
    "colab_type": "text",
    "id": "MlttN0CJ04Pb"
   },
   "source": [
    "<H2> Deterministic Finite Automata (DFA)</H2>"
   ]
  },
  {
   "cell_type": "code",
   "execution_count": null,
   "metadata": {
    "colab": {},
    "colab_type": "code",
    "id": "L1rYwQss04Pc"
   },
   "outputs": [],
   "source": [
    "\"\"\"\n",
    "The following code uses Automata-lib to create a DFA.\n",
    "Recall the formal defintion of a DFA (Q, Sigma, delta, q0, F)\n",
    "The formal definition requires the 5 tuple <Q, Sigma, delta, q0, F>, where:\n",
    "Q = Set of possible states\n",
    "Sigma = Input alphabet\n",
    "delta = Transition function d: Q X Sigma ---> Q\n",
    "q0: Start state\n",
    "F : A set of accept states\n",
    "This is an example that follows exercise 1.6 (a) from Sipser\n",
    "L(dfa1) = {w| w begins with a 1 and ends with a 0}\n",
    "\"\"\"\n",
    "dfa1 = DFA(\n",
    "    states={'q0', 'q1', 'q2', 'q3'}, #Enumerate the states of the automaton\n",
    "    input_symbols={'0', '1'}, #The alphabet\n",
    "    transitions={\n",
    "        'q0': {'0': 'q3', '1': 'q1'}, #The transition function (delta)\n",
    "        'q1': {'0': 'q2', '1': 'q1'},\n",
    "        'q2': {'0': 'q2', '1': 'q1'},\n",
    "        'q3': {'0': 'q3', '1': 'q3'}\n",
    "    },\n",
    "    initial_state='q0', # A single initial state\n",
    "    final_states={'q2'} # A set of states\n",
    ")"
   ]
  },
  {
   "cell_type": "code",
   "execution_count": null,
   "metadata": {
    "colab": {},
    "colab_type": "code",
    "id": "i5X4Gcsz04Pe"
   },
   "outputs": [],
   "source": [
    "\"\"\"\n",
    "Recall that DFA recognize regular languages.  Thus, this is the only computation they perform. \n",
    "All these computation involve is to determine whether a string is in a language.\n",
    "Therefore, DFA can only accept a string (reach and accept state) or reject it (doesn't reach \n",
    "an accept state by the time it completes reading the input string)\n",
    "\n",
    "In Automata-lib there are two main methods associate with DFAs:\n",
    "Method 1: read_input(\"input-string\").\n",
    "    This method returns the final state of the DFA after it reads all the input string. \n",
    "    If the DFA accepts, it reaches one of the accept states, else it rejects by never getting\n",
    "    to one of the accept states.  If it reject, this implementation returns an error (ends in the wrong state)\n",
    "\n",
    "Consider the following input string examples of the first method: \"10\", \"100011101010\", \"100111001\"\n",
    "\"\"\"\n",
    "s = [\"10\",\"100011101010\",\"100111001\"]\n",
    "print(':---------------------------------------------:')\n",
    "print('computing input string 1:',s[0])\n",
    "print('result of computation: ',dfa1.read_input(s[0]))\n",
    "print(':---------------------------------------------:')\n",
    "print('computing string 2:',s[1])\n",
    "print('result of computation: ',dfa1.read_input(s[1]))\n",
    "print(':---------------------------------------------:')\n",
    "print('computing string 3:',s[2])\n",
    "print('result of computation: ',dfa1.read_input(s[2]))\n",
    "print(':---------------------------------------------:')\n"
   ]
  },
  {
   "cell_type": "markdown",
   "metadata": {},
   "source": [
    "<h3>[TASK 1]</h3> Use the cell below to explain the output from the three <b>dfa1</b> computations in the previous cell."
   ]
  },
  {
   "cell_type": "markdown",
   "metadata": {},
   "source": [
    "# Type your answer here"
   ]
  },
  {
   "cell_type": "code",
   "execution_count": null,
   "metadata": {
    "colab": {},
    "colab_type": "code",
    "id": "UvDBwwqZ04Pg"
   },
   "outputs": [],
   "source": [
    "\"\"\"\n",
    "Method 2: the second method in Automata-lib is:\n",
    "    accepts_input(input-string).\n",
    "    This method returns True if the DFA accepted the string, otherwise returns False.\n",
    "    Thus, it tells us whether the DFA accepts the string or not.\n",
    "\n",
    "Consider the following input string examples of the second method: \"10\", \"100011101010\", \"100111001\"\n",
    "\"\"\"\n",
    "s = [\"10\",\"100011101010\",\"100111001\"]\n",
    "print(':---------------------------------------------:')\n",
    "print('computing input string 1:',s[0])\n",
    "print('result of computation: ',dfa1.accepts_input(s[0]))\n",
    "print(':---------------------------------------------:')\n",
    "print('computing string 2:',s[1])\n",
    "print('result of computation: ',dfa1.accepts_input(s[1]))\n",
    "print(':---------------------------------------------:')\n",
    "print('computing string 3:',s[2])\n",
    "print('result of computation: ',dfa1.accepts_input(s[2]))\n",
    "print(':---------------------------------------------:')"
   ]
  },
  {
   "cell_type": "code",
   "execution_count": null,
   "metadata": {
    "colab": {},
    "colab_type": "code",
    "id": "AXj_KYEd04Pi"
   },
   "outputs": [],
   "source": [
    "\"\"\"\n",
    "Automata-lib has a method that help its users step through DFA computations.\n",
    "Unfortunately, it doesn't work properly, but here is a function, DFAIncremental,\n",
    "that provides a fix. \n",
    "\n",
    "DFAIncremental is a function that steps through the DFA computation, \n",
    "one input character at a time.  Notice that DFAIncremental is This is after one has define\n",
    "the DFA). \n",
    "\"\"\"\n",
    "\n",
    "def DFAIncremental(DFA, Input):\n",
    "    StorageList = []\n",
    "    current_state = DFA.initial_state\n",
    "    print(current_state)\n",
    "    for i in Input:                  # Reading the input string, Input, one character a time\n",
    "        current_state = DFA._get_next_current_state(\n",
    "            current_state, i)\n",
    "        print(current_state)\n",
    "        StorageList.append(current_state)\n",
    "    if StorageList[(len(StorageList))-1] in DFA.final_states:\n",
    "        print(\"The DFA Accepts the Input String\")\n",
    "    else:\n",
    "        print(\"The DFA Rejects the Input String\")\n",
    "\n",
    "DFAIncremental(dfa1,\"101010101010\")"
   ]
  },
  {
   "cell_type": "markdown",
   "metadata": {
    "colab_type": "text",
    "id": "Q3xF2Qvv04Pm"
   },
   "source": [
    "<H2> Nondeterministic Finite Automata (NFA)</H2>"
   ]
  },
  {
   "cell_type": "code",
   "execution_count": null,
   "metadata": {
    "colab": {},
    "colab_type": "code",
    "id": "RqgTA07w04Pn"
   },
   "outputs": [],
   "source": [
    "\"\"\"\n",
    "The following code uses Automata-lib to create an NFA.\n",
    "Recall the formal defintion of a NFA (Q, Sigma, delta, q0, F)\n",
    "\n",
    "The formal definition requires the 5 tuple <Q, Sigma, delta, q0, F>, where:\n",
    "Q = Set of possible states\n",
    "Sigma = Input alphabet\n",
    "delta = Transition function d: Q X Sigma ---> P(Q), P(Q) is the power set of Q\n",
    "q0: Start state\n",
    "F : A set of accept states\n",
    "\"\"\"\n",
    "nfa1 = NFA(\n",
    "    states={'q0', 'q1', 'q2', 'q3'},            # Define set of states (Q)\n",
    "    input_symbols={'0', '1'},             # Define the alphabet (Sigma)\n",
    "    transitions={                         # Define the set of transition rules or transition function (delta)\n",
    "        'q0': {'0': {'q0'}, '1': {'q0','q1'}},\n",
    "        'q1': { '': {'q2'}, '0': {'q2'}, '1':{'q1'}},\n",
    "        'q2': {'0': {'q3'}},\n",
    "        'q3': {},\n",
    "    },\n",
    "    initial_state='q0',    # Initial state\n",
    "    final_states={'q3'}    # Set of accept states\n",
    ")\n",
    "\n"
   ]
  },
  {
   "cell_type": "markdown",
   "metadata": {},
   "source": [
    "<h3>[TASK 2]</h3> Draw the corresponding state diagram for <b>nfa1</b> base on its formal definition.  Either include the image of your state diagram in Python Notebook or submit a link to your diagram."
   ]
  },
  {
   "cell_type": "code",
   "execution_count": null,
   "metadata": {},
   "outputs": [],
   "source": []
  },
  {
   "cell_type": "code",
   "execution_count": null,
   "metadata": {
    "colab": {},
    "colab_type": "code",
    "id": "pz_0obea04Pp",
    "scrolled": true
   },
   "outputs": [],
   "source": [
    "\"\"\"\n",
    "Like DFAs, NFA computations only involve recognizing whether a string is in a language.\n",
    "Therefore, NFA can only accept or reject a string. NFA nondeterministically can follow\n",
    "multiple parallel computational branches. \n",
    "\n",
    "In Automata-lib there are two main methods associate with NFAs:\n",
    "Method 1:  read_input(\"input-string\").\n",
    "    This method returns the list of the states the automaton stops at (the multiple computation branches)\n",
    "    If an accept state is in the list, then the NFA accepts. Otherwise, it returns an error \n",
    "    (if the NFA rejects input)\n",
    "\"\"\"\n",
    " # Testing nfa1 with three different input strings\n",
    "lst = [\"10100\",\"000100\",\"1010000\"]\n",
    "for istr in lst:\n",
    "    print(':---------------------------------------------:')\n",
    "    print(f\"computing input string 1:{istr}\")\n",
    "    print(nfa1.read_input(istr))\n"
   ]
  },
  {
   "cell_type": "markdown",
   "metadata": {},
   "source": [
    "<h3>[TASK 3]</h3> Use the cell below to explain the output from the three <b>nfa1</b> computations in the previous cell."
   ]
  },
  {
   "cell_type": "markdown",
   "metadata": {},
   "source": [
    "# Type your answer here"
   ]
  },
  {
   "cell_type": "code",
   "execution_count": null,
   "metadata": {
    "colab": {},
    "colab_type": "code",
    "id": "yK4XQK0x04Pr"
   },
   "outputs": [],
   "source": [
    "\"\"\"\n",
    "Method 2 is  accepts_input(\"input-string\").\n",
    "    This method returns True if the NFA accepted the string, otherwise returns False.\n",
    "    Thus, it tells us whether the NFA accepts or rejects an input string rather than generating an exception.\n",
    "\"\"\"\n",
    "\n",
    "print(nfa1.accepts_input(\"10\"))\n",
    "print(nfa1.accepts_input(\"101\"))"
   ]
  },
  {
   "cell_type": "markdown",
   "metadata": {},
   "source": [
    "<h2> OTHER DFA AND NFA OPERATIONS</h2>"
   ]
  },
  {
   "cell_type": "code",
   "execution_count": null,
   "metadata": {
    "colab": {},
    "colab_type": "code",
    "id": "Yd5o4Cy104Pk"
   },
   "outputs": [],
   "source": [
    "\"\"\"\n",
    "Two more DFA methods:\n",
    " - DFA.minify() : This method attemps to create a DFA that accepts the same language \n",
    "                  as the source DFA but with fewer state (optimize the number of DFA states)\n",
    " - DFA.from_nfa : Converts an NFA into a corresponding DFA (since for every NFA, there exists an\n",
    "                  equivalent DFA that accepts the same language)\n",
    "\"\"\"\n",
    "\n",
    "minimized_dfa = dfa1.minify()\n",
    "print('MINIMIZED DFA:')\n",
    "print('DFA States:',minimized_dfa.states) #Inspecting the DFA states to see whether the DFA has been optimized\n",
    "                     #The output is a DFA with the smallest possible set of states that recognize\n",
    "                     #the same language\n",
    "print('DFA Transitions:',minimized_dfa.transitions) #Inspecting the transition rules\n",
    "print('DFA Accept States:',minimized_dfa.final_states)\n"
   ]
  },
  {
   "cell_type": "code",
   "execution_count": null,
   "metadata": {
    "colab": {},
    "colab_type": "code",
    "id": "-4GZ0lAs04Pu"
   },
   "outputs": [],
   "source": [
    "\"\"\"\n",
    "Similarly, the NFA object has a method NFA.from_dfa() which converts a DFA into a corresponding NFA that accepts the same\n",
    "language.\n",
    "\"\"\"\n",
    "nfa2 = NFA.from_dfa(dfa1)\n",
    "nfa2.read_input(\"1100110\")"
   ]
  },
  {
   "cell_type": "code",
   "execution_count": null,
   "metadata": {
    "colab": {},
    "colab_type": "code",
    "id": "A6ZBgN8F04Pw"
   },
   "outputs": [],
   "source": []
  }
 ],
 "metadata": {
  "colab": {
   "collapsed_sections": [],
   "name": "FA-automatalib.ipynb",
   "provenance": []
  },
  "kernelspec": {
   "display_name": "Python 3",
   "language": "python",
   "name": "python3"
  },
  "language_info": {
   "codemirror_mode": {
    "name": "ipython",
    "version": 3
   },
   "file_extension": ".py",
   "mimetype": "text/x-python",
   "name": "python",
   "nbconvert_exporter": "python",
   "pygments_lexer": "ipython3",
   "version": "3.7.3"
  }
 },
 "nbformat": 4,
 "nbformat_minor": 1
}
